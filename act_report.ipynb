{
 "cells": [
  {
   "cell_type": "markdown",
   "metadata": {},
   "source": [
    "### Analysis and visualization"
   ]
  },
  {
   "cell_type": "code",
   "execution_count": 9,
   "metadata": {},
   "outputs": [],
   "source": [
    "import matplotlib\n",
    "import pandas as pd\n",
    "import numpy as np\n",
    "import matplotlib.pyplot as plt\n",
    "import seaborn as sns\n",
    "%matplotlib inline  "
   ]
  },
  {
   "cell_type": "markdown",
   "metadata": {},
   "source": [
    "What I want to check is the relation between the retweets and the favorit count.\n",
    "My first suggestions is that both variables could be related. The higher the number of retweets the higher of favorite count. "
   ]
  },
  {
   "cell_type": "code",
   "execution_count": 10,
   "metadata": {},
   "outputs": [],
   "source": [
    "archive_clean3 = pd.read_csv('twitter_archive_master.csv')"
   ]
  },
  {
   "cell_type": "code",
   "execution_count": 11,
   "metadata": {},
   "outputs": [
    {
     "data": {
      "text/plain": [
       "Text(0.5,1,'Retweets vs Favorites')"
      ]
     },
     "execution_count": 11,
     "metadata": {},
     "output_type": "execute_result"
    },
    {
     "data": {
      "image/png": "[encoded data removed]",
      "text/plain": [
       "<matplotlib.figure.Figure at 0x7f97ce402710>"
      ]
     },
     "metadata": {
      "needs_background": "light"
     },
     "output_type": "display_data"
    }
   ],
   "source": [
    "archive_clean3.plot(kind='scatter', x='favorite_count', y='retweet_count', alpha = 0.5)\n",
    "plt.xlabel('retweet_count')\n",
    "plt.ylabel('favorite_count')\n",
    "plt.title('Retweets vs Favorites')"
   ]
  },
  {
   "cell_type": "markdown",
   "metadata": {},
   "source": [
    "Creating a scatterplot we see that there is at least a visual relation between each variable. Increasing the number of retweets we get higher number of favorites."
   ]
  },
  {
   "cell_type": "markdown",
   "metadata": {},
   "source": [
    "I want to check it programmatically by running the pearson correlation test in pandas"
   ]
  },
  {
   "cell_type": "code",
   "execution_count": 12,
   "metadata": {},
   "outputs": [
    {
     "name": "stdout",
     "output_type": "stream",
     "text": [
      "0.790476078845\n"
     ]
    }
   ],
   "source": [
    "r = archive_clean3.corr(method=\"pearson\")[\"favorite_count\"][\"retweet_count\"]\n",
    "print(r)"
   ]
  },
  {
   "cell_type": "markdown",
   "metadata": {},
   "source": [
    "There is a high correlation, not lineal, but strong enough to consider it high (0,79), between the variable \"retweet count\" and \"favorite count\". The nearer to the value: 1, the stronger the correlation."
   ]
  },
  {
   "cell_type": "markdown",
   "metadata": {},
   "source": [
    "We can have a deeper understanding of favorite and retweet distribution if we look to the \"dog_stage\".\n",
    "First of all I want to know how the dog_stages are distributed by number of rows."
   ]
  },
  {
   "cell_type": "code",
   "execution_count": 13,
   "metadata": {},
   "outputs": [
    {
     "data": {
      "text/plain": [
       "dog_stage\n",
       "None       1753\n",
       "doggo        67\n",
       "floofer       8\n",
       "pupper      221\n",
       "puppo        24\n",
       "Name: tweet_id, dtype: int64"
      ]
     },
     "execution_count": 13,
     "metadata": {},
     "output_type": "execute_result"
    }
   ],
   "source": [
    "prop =archive_clean3.groupby([\"dog_stage\"])\n",
    "prop[\"tweet_id\"].count()"
   ]
  },
  {
   "cell_type": "markdown",
   "metadata": {},
   "source": [
    " What we observe is that the \"None\"-group is the highest in number. But we can \"iterate the cleaning\"."
   ]
  },
  {
   "cell_type": "markdown",
   "metadata": {},
   "source": [
    "Definition: To clean the \"dog_stages\" variable of missing data (\"None\")"
   ]
  },
  {
   "cell_type": "markdown",
   "metadata": {},
   "source": [
    "Coding and testing:"
   ]
  },
  {
   "cell_type": "code",
   "execution_count": 14,
   "metadata": {},
   "outputs": [
    {
     "data": {
      "text/plain": [
       "dog_stage\n",
       "doggo       67\n",
       "floofer      8\n",
       "pupper     221\n",
       "puppo       24\n",
       "Name: tweet_id, dtype: int64"
      ]
     },
     "execution_count": 14,
     "metadata": {},
     "output_type": "execute_result"
    }
   ],
   "source": [
    "prop2 = archive_clean3[archive_clean3['dog_stage'] != 'None'].groupby([\"dog_stage\"])\n",
    "prop2[\"tweet_id\"].count()"
   ]
  },
  {
   "cell_type": "markdown",
   "metadata": {},
   "source": [
    "What we get is information about the distribution of number of rows per dog_stages groups without the missing values."
   ]
  },
  {
   "cell_type": "markdown",
   "metadata": {},
   "source": [
    "And now what I´m looking for is for the number of \"retweets\" and \"favorites\" in relation to the dog_stages without the missing values."
   ]
  },
  {
   "cell_type": "code",
   "execution_count": 15,
   "metadata": {},
   "outputs": [
    {
     "data": {
      "text/html": [
       "<div>\n",
       "<style>\n",
       "    .dataframe thead tr:only-child th {\n",
       "        text-align: right;\n",
       "    }\n",
       "\n",
       "    .dataframe thead th {\n",
       "        text-align: left;\n",
       "    }\n",
       "\n",
       "    .dataframe tbody tr th {\n",
       "        vertical-align: top;\n",
       "    }\n",
       "</style>\n",
       "<table border=\"1\" class=\"dataframe\">\n",
       "  <thead>\n",
       "    <tr style=\"text-align: right;\">\n",
       "      <th></th>\n",
       "      <th>retweet_count</th>\n",
       "      <th>favorite_count</th>\n",
       "    </tr>\n",
       "    <tr>\n",
       "      <th>dog_stage</th>\n",
       "      <th></th>\n",
       "      <th></th>\n",
       "    </tr>\n",
       "  </thead>\n",
       "  <tbody>\n",
       "    <tr>\n",
       "      <th>doggo</th>\n",
       "      <td>529404</td>\n",
       "      <td>1219452</td>\n",
       "    </tr>\n",
       "    <tr>\n",
       "      <th>floofer</th>\n",
       "      <td>38214</td>\n",
       "      <td>109611</td>\n",
       "    </tr>\n",
       "    <tr>\n",
       "      <th>pupper</th>\n",
       "      <td>576216</td>\n",
       "      <td>1573939</td>\n",
       "    </tr>\n",
       "    <tr>\n",
       "      <th>puppo</th>\n",
       "      <td>167119</td>\n",
       "      <td>522650</td>\n",
       "    </tr>\n",
       "  </tbody>\n",
       "</table>\n",
       "</div>"
      ],
      "text/plain": [
       "           retweet_count  favorite_count\n",
       "dog_stage                               \n",
       "doggo             529404         1219452\n",
       "floofer            38214          109611\n",
       "pupper            576216         1573939\n",
       "puppo             167119          522650"
      ]
     },
     "execution_count": 15,
     "metadata": {},
     "output_type": "execute_result"
    }
   ],
   "source": [
    "prop3 = archive_clean3[archive_clean3['dog_stage'] != 'None'].groupby([\"dog_stage\"])\n",
    "prop3[\"retweet_count\", \"favorite_count\"].sum()"
   ]
  },
  {
   "cell_type": "markdown",
   "metadata": {},
   "source": [
    "And what we get is the distribution of the sum of retweets and favorites for each group. The highest number of retweets and favorites are for the pupper group, followed by the doggo, then the puppo and the less retweeted and favorites are the floofer.\n",
    "As expected we see that retweet and favorites are correlated also by the groups. The groups with the highest rates of retweets are also teh groups with the highest rates in favorites and this happens also in the less retweeted groups."
   ]
  }
 ],
 "metadata": {
  "kernelspec": {
   "display_name": "Python 3",
   "language": "python",
   "name": "python3"
  },
  "language_info": {
   "codemirror_mode": {
    "name": "ipython",
    "version": 3
   },
   "file_extension": ".py",
   "mimetype": "text/x-python",
   "name": "python",
   "nbconvert_exporter": "python",
   "pygments_lexer": "ipython3",
   "version": "3.6.3"
  }
 },
 "nbformat": 4,
 "nbformat_minor": 2
}
